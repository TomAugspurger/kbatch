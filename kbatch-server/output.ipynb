{
 "cells": [
  {
   "cell_type": "markdown",
   "id": "b199d576",
   "metadata": {
    "tags": [
     "papermill-error-cell-tag"
    ]
   },
   "source": [
    "<span style=\"color:red; font-family:Helvetica Neue, Helvetica, Arial, sans-serif; font-size:2em;\">An Exception was encountered at '<a href=\"#papermill-error-cell\">In [1]</a>'.</span>"
   ]
  },
  {
   "cell_type": "markdown",
   "id": "ba8debe2",
   "metadata": {
    "papermill": {
     "duration": 0.043306,
     "end_time": "2021-10-14T14:56:22.573373",
     "exception": false,
     "start_time": "2021-10-14T14:56:22.530067",
     "status": "completed"
    },
    "tags": []
   },
   "source": [
    "## Accessing Sentinel-2 L2A data with the Planetary Computer STAC API\n",
    "\n",
    "The [Sentinel-2](https://sentinel.esa.int/web/sentinel/missions/sentinel-2) program provides global imagery in thirteen spectral bands at 10m-60m resolution and a revisit time of approximately five days.  This dataset represents the global Sentinel-2 archive, from 2016 to the present, processed to L2A (bottom-of-atmosphere) using [Sen2Cor](https://step.esa.int/main/snap-supported-plugins/sen2cor/) and converted to [cloud-optimized GeoTIFF](https://www.cogeo.org/) format.  The digital elevation model used for terrain correction was [Planet DEM 30](https://planetobserver.com/global-elevation-data/).\n",
    "\n",
    "This notebook demonstrates the use of the Planetary Computer STAC API to query for Sentinel-2 tiles.\n",
    "\n",
    "This notebook works with or without an API key, but you will be given more permissive access to the data with an API key.\n",
    "The [Planetary Computer Hub](https://planetarycomputer.microsoft.com/compute) is pre-configured to use your API key."
   ]
  },
  {
   "cell_type": "markdown",
   "id": "d47473a3",
   "metadata": {
    "papermill": {
     "duration": 0.023024,
     "end_time": "2021-10-14T14:56:22.621768",
     "exception": false,
     "start_time": "2021-10-14T14:56:22.598744",
     "status": "completed"
    },
    "tags": []
   },
   "source": [
    "### Environment setup\n",
    "\n",
    "This notebook works with or without an API key, but you will be given more permissive access to the data with an API key. The Planetary Computer Hub is pre-configured to use your API key."
   ]
  },
  {
   "cell_type": "markdown",
   "id": "749acd42",
   "metadata": {
    "tags": [
     "papermill-error-cell-tag"
    ]
   },
   "source": [
    "<span id=\"papermill-error-cell\" style=\"color:red; font-family:Helvetica Neue, Helvetica, Arial, sans-serif; font-size:2em;\">Execution using papermill encountered an exception here and stopped:</span>"
   ]
  },
  {
   "cell_type": "code",
   "execution_count": 1,
   "id": "5cc54f1c",
   "metadata": {
    "execution": {
     "iopub.execute_input": "2021-10-14T14:56:22.674526Z",
     "iopub.status.busy": "2021-10-14T14:56:22.674122Z",
     "iopub.status.idle": "2021-10-14T14:56:22.716279Z",
     "shell.execute_reply": "2021-10-14T14:56:22.715297Z"
    },
    "papermill": {
     "duration": 0.070246,
     "end_time": "2021-10-14T14:56:22.716457",
     "exception": true,
     "start_time": "2021-10-14T14:56:22.646211",
     "status": "failed"
    },
    "tags": []
   },
   "outputs": [
    {
     "ename": "ModuleNotFoundError",
     "evalue": "No module named 'pystac_client'",
     "output_type": "error",
     "traceback": [
      "\u001b[0;31m---------------------------------------------------------------------------\u001b[0m",
      "\u001b[0;31mModuleNotFoundError\u001b[0m                       Traceback (most recent call last)",
      "\u001b[0;32m/tmp/ipykernel_16900/3037047935.py\u001b[0m in \u001b[0;36m<module>\u001b[0;34m\u001b[0m\n\u001b[0;32m----> 1\u001b[0;31m \u001b[0;32mfrom\u001b[0m \u001b[0mpystac_client\u001b[0m \u001b[0;32mimport\u001b[0m \u001b[0mClient\u001b[0m\u001b[0;34m\u001b[0m\u001b[0;34m\u001b[0m\u001b[0m\n\u001b[0m\u001b[1;32m      2\u001b[0m \u001b[0;32mfrom\u001b[0m \u001b[0mpystac\u001b[0m\u001b[0;34m.\u001b[0m\u001b[0mextensions\u001b[0m\u001b[0;34m.\u001b[0m\u001b[0meo\u001b[0m \u001b[0;32mimport\u001b[0m \u001b[0mEOExtension\u001b[0m \u001b[0;32mas\u001b[0m \u001b[0meo\u001b[0m\u001b[0;34m\u001b[0m\u001b[0;34m\u001b[0m\u001b[0m\n\u001b[1;32m      3\u001b[0m \u001b[0;32mimport\u001b[0m \u001b[0mplanetary_computer\u001b[0m \u001b[0;32mas\u001b[0m \u001b[0mpc\u001b[0m\u001b[0;34m\u001b[0m\u001b[0;34m\u001b[0m\u001b[0m\n\u001b[1;32m      4\u001b[0m \u001b[0;34m\u001b[0m\u001b[0m\n\u001b[1;32m      5\u001b[0m \u001b[0;31m# Set the environment variable PC_SDK_SUBSCRIPTION_KEY, or set it here.\u001b[0m\u001b[0;34m\u001b[0m\u001b[0;34m\u001b[0m\u001b[0m\n",
      "\u001b[0;31mModuleNotFoundError\u001b[0m: No module named 'pystac_client'"
     ]
    }
   ],
   "source": [
    "from pystac_client import Client\n",
    "from pystac.extensions.eo import EOExtension as eo\n",
    "import planetary_computer as pc\n",
    "\n",
    "# Set the environment variable PC_SDK_SUBSCRIPTION_KEY, or set it here.\n",
    "# The Hub sets PC_SDK_SUBSCRIPTION_KEY automatically.\n",
    "# pc.settings.set_subscription_key(<YOUR API Key>)"
   ]
  },
  {
   "cell_type": "markdown",
   "id": "2e22cecf",
   "metadata": {
    "papermill": {
     "duration": null,
     "end_time": null,
     "exception": null,
     "start_time": null,
     "status": "pending"
    },
    "tags": []
   },
   "source": [
    "### Choose a region and time of interest\n",
    "\n",
    "This area is near Jonah Bay, Alaska."
   ]
  },
  {
   "cell_type": "code",
   "execution_count": null,
   "id": "0703c781",
   "metadata": {
    "papermill": {
     "duration": null,
     "end_time": null,
     "exception": null,
     "start_time": null,
     "status": "pending"
    },
    "tags": []
   },
   "outputs": [],
   "source": [
    "area_of_interest = {\n",
    "    \"type\": \"Polygon\",\n",
    "    \"coordinates\": [\n",
    "        [\n",
    "            [-148.56536865234375, 60.80072385643073],\n",
    "            [-147.44338989257812, 60.80072385643073],\n",
    "            [-147.44338989257812, 61.18363894915102],\n",
    "            [-148.56536865234375, 61.18363894915102],\n",
    "            [-148.56536865234375, 60.80072385643073],\n",
    "        ]\n",
    "    ],\n",
    "}"
   ]
  },
  {
   "cell_type": "markdown",
   "id": "22328564",
   "metadata": {
    "papermill": {
     "duration": null,
     "end_time": null,
     "exception": null,
     "start_time": null,
     "status": "pending"
    },
    "tags": []
   },
   "source": [
    "Define the time range to filter images with. Here we use the summer of 2019."
   ]
  },
  {
   "cell_type": "code",
   "execution_count": null,
   "id": "29a8f585",
   "metadata": {
    "papermill": {
     "duration": null,
     "end_time": null,
     "exception": null,
     "start_time": null,
     "status": "pending"
    },
    "tags": []
   },
   "outputs": [],
   "source": [
    "time_of_interest = \"2019-06-01/2019-08-01\""
   ]
  },
  {
   "cell_type": "markdown",
   "id": "b239d1e1",
   "metadata": {
    "papermill": {
     "duration": null,
     "end_time": null,
     "exception": null,
     "start_time": null,
     "status": "pending"
    },
    "tags": []
   },
   "source": [
    "### Search the collection and choose an image to render\n",
    "\n",
    "Use [pystac-client](https://github.com/stac-utils/pystac-client) to search for Sentinel 2 L2A data in this time range."
   ]
  },
  {
   "cell_type": "code",
   "execution_count": null,
   "id": "c0b5c406",
   "metadata": {
    "papermill": {
     "duration": null,
     "end_time": null,
     "exception": null,
     "start_time": null,
     "status": "pending"
    },
    "tags": []
   },
   "outputs": [],
   "source": [
    "catalog = Client.open(\"https://planetarycomputer.microsoft.com/api/stac/v1\")\n",
    "\n",
    "search = catalog.search(\n",
    "    collections=[\"sentinel-2-l2a\"],\n",
    "    intersects=area_of_interest,\n",
    "    datetime=time_of_interest,\n",
    "    query={\"eo:cloud_cover\": {\"lt\": 10}},\n",
    ")\n",
    "\n",
    "# Check how many items were returned\n",
    "items = list(search.get_items())\n",
    "print(f\"Returned {len(items)} Items\")"
   ]
  },
  {
   "cell_type": "markdown",
   "id": "5034c131",
   "metadata": {
    "papermill": {
     "duration": null,
     "end_time": null,
     "exception": null,
     "start_time": null,
     "status": "pending"
    },
    "tags": []
   },
   "source": [
    "We can now work directly with the [PySTAC](https://github.com/stac-utils/pystac) Items returned by the API. Here we find the least cloudy of the bunch."
   ]
  },
  {
   "cell_type": "code",
   "execution_count": null,
   "id": "1b1aee15",
   "metadata": {
    "papermill": {
     "duration": null,
     "end_time": null,
     "exception": null,
     "start_time": null,
     "status": "pending"
    },
    "tags": []
   },
   "outputs": [],
   "source": [
    "least_cloudy_item = sorted(items, key=lambda item: eo.ext(item).cloud_cover)[0]\n",
    "\n",
    "print(\n",
    "    f\"Choosing {least_cloudy_item.id} from {least_cloudy_item.datetime.date()}\"\n",
    "    f\" with {eo.ext(least_cloudy_item).cloud_cover}% cloud cover\"\n",
    ")"
   ]
  },
  {
   "cell_type": "markdown",
   "id": "062c3bf8",
   "metadata": {
    "papermill": {
     "duration": null,
     "end_time": null,
     "exception": null,
     "start_time": null,
     "status": "pending"
    },
    "tags": []
   },
   "source": [
    "Get the URL to the [Cloud Optimized GeoTIFF](https://www.cogeo.org/) image corresponding to the true color composite image."
   ]
  },
  {
   "cell_type": "code",
   "execution_count": null,
   "id": "c8dd5d87",
   "metadata": {
    "papermill": {
     "duration": null,
     "end_time": null,
     "exception": null,
     "start_time": null,
     "status": "pending"
    },
    "tags": []
   },
   "outputs": [],
   "source": [
    "asset_href = least_cloudy_item.assets[\"visual\"].href"
   ]
  },
  {
   "cell_type": "markdown",
   "id": "f168f828",
   "metadata": {
    "papermill": {
     "duration": null,
     "end_time": null,
     "exception": null,
     "start_time": null,
     "status": "pending"
    },
    "tags": []
   },
   "source": [
    "This HREF is a URL is the location of the asset data on [Azure Blob Storage](https://azure.microsoft.com/en-us/services/storage/blobs/). In order to read the data, we'll need to retrieve a [Shared Access Signature](https://docs.microsoft.com/en-us/azure/storage/common/storage-sas-overview) and supply it as a query parameter. These tokens are generated from the Planetary Computer [Data Access API](https://planetarycomputer.microsoft.com/api/sas/v1/docs).\n",
    "\n",
    "We use the [planetary-computer](https://github.com/microsoft/planetary-computer-sdk-for-python) package to \"sign\" our asset HREF with a generated token:"
   ]
  },
  {
   "cell_type": "code",
   "execution_count": null,
   "id": "ae563024",
   "metadata": {
    "papermill": {
     "duration": null,
     "end_time": null,
     "exception": null,
     "start_time": null,
     "status": "pending"
    },
    "tags": []
   },
   "outputs": [],
   "source": [
    "signed_href = pc.sign(asset_href)"
   ]
  },
  {
   "cell_type": "markdown",
   "id": "bd99bbbc",
   "metadata": {
    "papermill": {
     "duration": null,
     "end_time": null,
     "exception": null,
     "start_time": null,
     "status": "pending"
    },
    "tags": []
   },
   "source": [
    "We can now use the HREF to read our data in any tools that can retrieve data from URLs via HTTP GET operations.\n",
    "\n",
    "For example, here we use rasterio to render the image data over our area of interest:"
   ]
  },
  {
   "cell_type": "markdown",
   "id": "1d134fba",
   "metadata": {
    "papermill": {
     "duration": null,
     "end_time": null,
     "exception": null,
     "start_time": null,
     "status": "pending"
    },
    "tags": []
   },
   "source": [
    "### Render our AOI from this image"
   ]
  },
  {
   "cell_type": "code",
   "execution_count": null,
   "id": "e3e236c6",
   "metadata": {
    "papermill": {
     "duration": null,
     "end_time": null,
     "exception": null,
     "start_time": null,
     "status": "pending"
    },
    "tags": []
   },
   "outputs": [],
   "source": [
    "import rasterio\n",
    "from rasterio import windows\n",
    "from rasterio import features\n",
    "from rasterio import warp\n",
    "\n",
    "import numpy as np\n",
    "from PIL import Image\n",
    "\n",
    "with rasterio.open(signed_href) as ds:\n",
    "    aoi_bounds = features.bounds(area_of_interest)\n",
    "    warped_aoi_bounds = warp.transform_bounds(\"epsg:4326\", ds.crs, *aoi_bounds)\n",
    "    aoi_window = windows.from_bounds(transform=ds.transform, *warped_aoi_bounds)\n",
    "    band_data = ds.read(window=aoi_window)"
   ]
  },
  {
   "cell_type": "markdown",
   "id": "89d799c3",
   "metadata": {
    "papermill": {
     "duration": null,
     "end_time": null,
     "exception": null,
     "start_time": null,
     "status": "pending"
    },
    "tags": []
   },
   "source": [
    "rasterio gives us data band-interleave format; transpose to pixel-interleave, and downscale the image data for plotting."
   ]
  },
  {
   "cell_type": "code",
   "execution_count": null,
   "id": "8f7566df",
   "metadata": {
    "papermill": {
     "duration": null,
     "end_time": null,
     "exception": null,
     "start_time": null,
     "status": "pending"
    },
    "tags": []
   },
   "outputs": [],
   "source": [
    "img = Image.fromarray(np.transpose(band_data, axes=[1, 2, 0]))\n",
    "w = img.size[0]\n",
    "h = img.size[1]\n",
    "aspect = w / h\n",
    "target_w = 800\n",
    "target_h = (int)(target_w / aspect)\n",
    "img.resize((target_w, target_h), Image.BILINEAR)"
   ]
  }
 ],
 "metadata": {
  "kernelspec": {
   "display_name": "Python 3 (ipykernel)",
   "language": "python",
   "name": "python3"
  },
  "language_info": {
   "codemirror_mode": {
    "name": "ipython",
    "version": 3
   },
   "file_extension": ".py",
   "mimetype": "text/x-python",
   "name": "python",
   "nbconvert_exporter": "python",
   "pygments_lexer": "ipython3",
   "version": "3.9.7"
  },
  "papermill": {
   "default_parameters": {},
   "duration": 1.500083,
   "end_time": "2021-10-14T14:56:22.847035",
   "environment_variables": {},
   "exception": true,
   "input_path": "sentinel-2-l2a-example.ipynb",
   "output_path": "output.ipynb",
   "parameters": {},
   "start_time": "2021-10-14T14:56:21.346952",
   "version": "2.3.3"
  },
  "widgets": {
   "application/vnd.jupyter.widget-state+json": {
    "state": {},
    "version_major": 2,
    "version_minor": 0
   }
  }
 },
 "nbformat": 4,
 "nbformat_minor": 5
}